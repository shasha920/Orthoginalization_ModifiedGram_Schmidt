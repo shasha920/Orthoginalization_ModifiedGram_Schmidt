{
  "nbformat": 4,
  "nbformat_minor": 0,
  "metadata": {
    "colab": {
      "provenance": []
    },
    "kernelspec": {
      "name": "python3",
      "display_name": "Python 3"
    },
    "language_info": {
      "name": "python"
    }
  },
  "cells": [
    {
      "cell_type": "code",
      "execution_count": 2,
      "metadata": {
        "colab": {
          "base_uri": "https://localhost:8080/"
        },
        "id": "lSukhIC_7r87",
        "outputId": "1bf6858c-1abf-436f-b9ac-0637161a0381"
      },
      "outputs": [
        {
          "output_type": "stream",
          "name": "stdout",
          "text": [
            "CGS:\n",
            "1.4171551300157137e-14\n",
            "MGS:\n",
            "2.743314556005299e-12\n"
          ]
        }
      ],
      "source": [
        "import numpy as np\n",
        "\n",
        "# Define functions equivalent to CGS and MGS\n",
        "def CGS(A):\n",
        "    Q, _ = np.linalg.qr(A)\n",
        "    return Q\n",
        "\n",
        "def MGS(A):\n",
        "    Q = np.zeros_like(A)\n",
        "    R = np.zeros((A.shape[1], A.shape[1]))\n",
        "    for i in range(A.shape[1]):\n",
        "        v = A[:, i]\n",
        "        for j in range(i):\n",
        "            R[j, i] = np.dot(Q[:, j], A[:, i])\n",
        "            v = v - R[j, i] * Q[:, j]\n",
        "        R[i, i] = np.linalg.norm(v)\n",
        "        Q[:, i] = v / R[i, i]\n",
        "    return Q\n",
        "\n",
        "# Set matrix size\n",
        "n = 200\n",
        "\n",
        "# Construct a \"typical\" matrix\n",
        "A = np.random.rand(n, n)\n",
        "\n",
        "# Calculate Q using CGS\n",
        "Q_cgs = CGS(A)\n",
        "print(\"CGS:\")\n",
        "print(np.linalg.norm(np.eye(n) - Q_cgs.T @ Q_cgs))\n",
        "\n",
        "# Calculate Q using MGS\n",
        "Q_mgs = MGS(A)\n",
        "print(\"MGS:\")\n",
        "print(np.linalg.norm(np.eye(n) - Q_mgs.T @ Q_mgs))"
      ]
    },
    {
      "cell_type": "code",
      "source": [
        "import numpy as np\n",
        "\n",
        "# Define functions equivalent to CGS and MGS\n",
        "def CGS(A):\n",
        "    Q, _ = np.linalg.qr(A)\n",
        "    return Q\n",
        "\n",
        "def MGS(A):\n",
        "    Q = np.zeros_like(A)\n",
        "    R = np.zeros((A.shape[1], A.shape[1]))\n",
        "    for i in range(A.shape[1]):\n",
        "        v = A[:, i]\n",
        "        for j in range(i):\n",
        "            R[j, i] = np.dot(Q[:, j], A[:, i])\n",
        "            v = v - R[j, i] * Q[:, j]\n",
        "        R[i, i] = np.linalg.norm(v)\n",
        "        Q[:, i] = v / R[i, i]\n",
        "    return Q\n",
        "\n",
        "# Set matrix size\n",
        "n = 200\n",
        "\n",
        "# Construct a difficult matrix (ill-conditioned)\n",
        "A = 0.00001 * np.eye(n) + np.array([[1.0 / (i + j + 1) for j in range(n)] for i in range(n)])\n",
        "\n",
        "# Calculate Q using CGS\n",
        "Q_cgs = CGS(A)\n",
        "print(\"CGS:\")\n",
        "print(np.linalg.norm(np.eye(n) - Q_cgs.T @ Q_cgs))\n",
        "\n",
        "# Calculate Q using MGS\n",
        "Q_mgs = MGS(A)\n",
        "print(\"MGS:\")\n",
        "print(np.linalg.norm(np.eye(n) - Q_mgs.T @ Q_mgs))"
      ],
      "metadata": {
        "colab": {
          "base_uri": "https://localhost:8080/"
        },
        "id": "_9fL7Laa9gdS",
        "outputId": "d4b0e7c3-6dae-4598-93cd-4c1803d4f00c"
      },
      "execution_count": 3,
      "outputs": [
        {
          "output_type": "stream",
          "name": "stdout",
          "text": [
            "CGS:\n",
            "9.231839751823645e-15\n",
            "MGS:\n",
            "181.20932543528096\n"
          ]
        }
      ]
    }
  ]
}