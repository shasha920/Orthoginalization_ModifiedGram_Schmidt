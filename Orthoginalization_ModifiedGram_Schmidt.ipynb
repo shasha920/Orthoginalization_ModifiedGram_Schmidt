{
  "nbformat": 4,
  "nbformat_minor": 0,
  "metadata": {
    "colab": {
      "provenance": []
    },
    "kernelspec": {
      "name": "python3",
      "display_name": "Python 3"
    },
    "language_info": {
      "name": "python"
    }
  },
  "cells": [
    {
      "cell_type": "code",
      "execution_count": 47,
      "metadata": {
        "id": "enFN8lSjwCzN"
      },
      "outputs": [],
      "source": [
        "import pandas\n",
        "import numpy"
      ]
    },
    {
      "cell_type": "code",
      "source": [
        "def classical_gs(A):\n",
        "    num_vecs = A.shape[0]\n",
        "\n",
        "    B = numpy.zeros_like(A)\n",
        "\n",
        "    for j in range(0, num_vecs):\n",
        "        temp = A[j]\n",
        "        for k in range(0, j):\n",
        "            temp = temp - B[k].T@A[j]*B[k]\n",
        "        B[j] = temp / numpy.linalg.norm(temp)\n",
        "\n",
        "    return B"
      ],
      "metadata": {
        "id": "rlq2jMDRwPDV"
      },
      "execution_count": 48,
      "outputs": []
    },
    {
      "cell_type": "code",
      "source": [
        "def modified_gs(A:numpy.ndarray)->numpy.ndarray:\n",
        "    num_vecs = A.shape[0]\n",
        "    num_dims = A.shape[1]\n",
        "\n",
        "    L = numpy.zeros(num_vecs)\n",
        "    for i in range(num_vecs):\n",
        "        L[i] = numpy.sqrt(A[i].T@A[i])\n",
        "\n",
        "\n",
        "    V = A.copy() / L\n",
        "    B = V.copy()\n",
        "    for j in range(0, num_vecs):\n",
        "        B[j] = V[j]/numpy.sqrt(V[j].T@V[j])\n",
        "        for k in range(j, num_vecs):\n",
        "            V[k] = V[k] - (B[j].T@V[k])*B[j]\n",
        "    return B"
      ],
      "metadata": {
        "id": "tjh8Amy9yI9K"
      },
      "execution_count": 49,
      "outputs": []
    },
    {
      "cell_type": "code",
      "source": [
        "from scipy.linalg import hilbert\n",
        "\n",
        "A = hilbert(10)\n",
        "\n",
        "Q1 = classical_gs(A)\n",
        "Q2 = modified_gs(A)"
      ],
      "metadata": {
        "id": "1yyXaREqzO-m"
      },
      "execution_count": 50,
      "outputs": []
    },
    {
      "cell_type": "code",
      "source": [
        "def characterize_basis(Q:numpy.ndarray)-> numpy.ndarray:\n",
        "    H = Q.T@Q\n",
        "    err_norm = numpy.max(numpy.abs(numpy.diag(H)-1))\n",
        "\n",
        "    for i in range(H.shape[0]):\n",
        "        H[i,i] = 0\n",
        "\n",
        "    err_orth = numpy.max(H)\n",
        "\n",
        "    print(f'Worse error from ||v_i|| = 1  condition is {err_norm}')\n",
        "    print(f'Worse error from othoginality is {err_orth}')\n",
        "    return err_norm + err_orth"
      ],
      "metadata": {
        "id": "czqQdWQj0WXz"
      },
      "execution_count": 51,
      "outputs": []
    },
    {
      "cell_type": "code",
      "source": [
        "from sklearn.linear_model import LogisticRegression"
      ],
      "metadata": {
        "id": "xQGF7vKT3CHc"
      },
      "execution_count": 52,
      "outputs": []
    },
    {
      "cell_type": "code",
      "source": [
        "max_iter = 1000"
      ],
      "metadata": {
        "id": "oNHeiMXg3x8G"
      },
      "execution_count": 53,
      "outputs": []
    },
    {
      "cell_type": "code",
      "source": [
        "Q = modified_gs(A)\n",
        "\n",
        "for i in range(max_iter):\n",
        "\n",
        "    # here 10**-14 is a stand in for error limit\n",
        "    if characterize_basis(Q) < 2*10**-15:\n",
        "        break\n",
        "\n",
        "    # if we haven't hit out error tolerance, reothoginalize\n",
        "    Q = modified_gs(Q)"
      ],
      "metadata": {
        "colab": {
          "base_uri": "https://localhost:8080/"
        },
        "id": "dGoVuwCy1qgK",
        "outputId": "8192820d-81c5-44a3-c735-50375f34d18d"
      },
      "execution_count": 54,
      "outputs": [
        {
          "output_type": "stream",
          "name": "stdout",
          "text": [
            "Worse error from ||v_i|| = 1  condition is 9.129571314847595e-05\n",
            "Worse error from othoginality is 7.020487901033809e-05\n",
            "Worse error from ||v_i|| = 1  condition is 2.220446049250313e-16\n",
            "Worse error from othoginality is 1.468921297233662e-16\n"
          ]
        }
      ]
    }
  ]
}